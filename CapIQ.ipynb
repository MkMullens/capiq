{
 "cells": [
  {
   "cell_type": "code",
   "execution_count": 1,
   "metadata": {
    "collapsed": true
   },
   "outputs": [],
   "source": [
    "import requests,json,logging\n",
    "from requests.auth import HTTPBasicAuth\n",
    "#from settings import CAPIQ_USERNAME, CAPIQ_PASSWORD"
   ]
  },
  {
   "cell_type": "code",
   "execution_count": 2,
   "metadata": {
    "collapsed": true
   },
   "outputs": [],
   "source": [
    "class CapIQClient:\n",
    "    _endpoint = 'https://sdk.gds.standardandpoors.com/gdssdk/rest/v2/clientservice.json'\n",
    "    _headers = {'Content-Type': 'application/x-www-form-urlencoded','Accept-Encoding': 'gzip,deflate'}\n",
    "\n",
    "    # This function retrieves a single data point for a point in time value for a mnemonic either current or\n",
    "    # historical. Default inputs include a Mnemonic and a Security/Entity Identifier\n",
    "    #\n",
    "    # Returns a nested dictionary, where the primary key is the identifier and the secondary key is the mnemonic. In case of an error, \n",
    "    # a None value is returned for that mnemonic and Cap IQ's error is logged"
   ]
  },
  {
   "cell_type": "code",
   "execution_count": 3,
   "metadata": {
    "collapsed": true
   },
   "outputs": [],
   "source": [
    "  def gdsp(self,identifiers,mnemonics,properties=None):\n",
    "        req_array = []\n",
    "        for identifier in identifiers:\n",
    "            for i,mnemonic in enumerate(mnemonics):\n",
    "                req_array.append({\"function\":\"GDSP\",\"identifier\":identifier,\"mnemonic\":mnemonic,\"properties\":properties[i] if properties else {}})\n",
    "        req = {\"inputRequests\":req_array}\n",
    "        response = requests.post(self._endpoint,headers=self._headers,data='inputRequests='+json.dumps(req),auth=HTTPBasicAuth(CAPIQ_USERNAME,CAPIQ_PASSWORD))\n",
    "        returnee = {}\n",
    "        for r in response.json()['GDSSDKResponse']:\n",
    "            identifier = r['Identifier']\n",
    "            if identifier not in returnee:\n",
    "                returnee[identifier] = {} \n",
    "            for i,h in enumerate(r['Headers']):\n",
    "                if r['ErrMsg'] is not None:\n",
    "                    logging.error('Cap IQ error for '+identifier+' + '+h+' query: '+r['ErrMsg'])\n",
    "                    returnee[identifier][h] = None\n",
    "                else:\n",
    "                    returnee[identifier][h] = r['Rows'][i]['Row'][0]\n",
    "        return returnee"
   ]
  },
  {
   "cell_type": "code",
   "execution_count": 4,
   "metadata": {
    "collapsed": true
   },
   "outputs": [],
   "source": [
    "def gdspv(self,identifiers,mnemonics,properties=None):\n",
    "        req_array = []\n",
    "        for identifier in identifiers:\n",
    "            for i,mnemonic in enumerate(mnemonics):\n",
    "                req_array.append({\"function\":\"GDSPV\",\"identifier\":identifier,\"mnemonic\":mnemonic,\"properties\":properties[i] if properties else {}})\n",
    "        req = {\"inputRequests\":req_array}\n",
    "        r = requests.post(self._endpoint,headers=self._headers,data='inputRequests='+json.dumps(req),auth=HTTPBasicAuth(CAPIQ_USERNAME,CAPIQ_PASSWORD))\n",
    "        return r.json()"
   ]
  },
  {
   "cell_type": "code",
   "execution_count": 5,
   "metadata": {
    "collapsed": true
   },
   "outputs": [],
   "source": [
    " def gdst(self,identifiers,mnemonics,start_date,end_date=None,frequency='D',properties=None):\n",
    "        if not properties:\n",
    "            properties = []\n",
    "            for i in range(0,len(mnemonics)):\n",
    "                properties.append({})\n",
    "        for p in properties:\n",
    "            p[\"FREQUENCY\"] = frequency\n",
    "            p[\"STARTDATE\"] = start_date\n",
    "            if end_date:\n",
    "                p[\"ENDDATE\"] = end_date\n",
    "\n",
    "        req_array = []\n",
    "        for identifier in identifiers:\n",
    "            for i,mnemonic in enumerate(mnemonics):\n",
    "                req_array.append({\"function\":\"GDST\",\"identifier\":identifier,\"mnemonic\":mnemonic,\"properties\":properties[i]})\n",
    "        req = {\"inputRequests\":req_array}\n",
    "        r = requests.post(self._endpoint,headers=self._headers,data='inputRequests='+json.dumps(req),auth=HTTPBasicAuth(CAPIQ_USERNAME,CAPIQ_PASSWORD))\n",
    "        return r.json()"
   ]
  },
  {
   "cell_type": "code",
   "execution_count": 6,
   "metadata": {
    "collapsed": true
   },
   "outputs": [],
   "source": [
    "def gdshe(self,identifiers,mnemonics,start_date=None,end_date=None,properties=None):\n",
    "        if not properties:\n",
    "            properties = []\n",
    "            for i in range(0,len(mnemonics)):\n",
    "                properties.append({})\n",
    "        for p in properties:\n",
    "            if start_date:            \n",
    "                p[\"STARTDATE\"] = start_date\n",
    "            if end_date:\n",
    "                p[\"ENDDATE\"] = end_date\n",
    "\n",
    "        req_array = []\n",
    "        for identifier in identifiers:\n",
    "            for i,mnemonic in enumerate(mnemonics):\n",
    "                req_array.append({\"function\":\"GDSHE\",\"identifier\":identifier,\"mnemonic\":mnemonic,\"properties\":properties[i]})\n",
    "        req = {\"inputRequests\":req_array}\n",
    "        r = requests.post(self._endpoint,headers=self._headers,data='inputRequests='+json.dumps(req),auth=HTTPBasicAuth(CAPIQ_USERNAME,CAPIQ_PASSWORD))\n",
    "        return r.json()"
   ]
  },
  {
   "cell_type": "code",
   "execution_count": null,
   "metadata": {
    "collapsed": true
   },
   "outputs": [],
   "source": [
    "def gdshv(self,identifiers,mnemonics,start_date=None,end_date=None,properties=None):\n",
    "        if not properties:\n",
    "            properties = []\n",
    "            for i in range(0,len(mnemonics)):\n",
    "                properties.append({})\n",
    "        for p in properties:\n",
    "            if start_date:            \n",
    "                p[\"STARTDATE\"] = start_date\n",
    "            if end_date:\n",
    "                p[\"ENDDATE\"] = end_date\n",
    "\n",
    "        req_array = []\n",
    "        for identifier in identifiers:\n",
    "            for i,mnemonic in enumerate(mnemonics):\n",
    "                req_array.append({\"function\":\"GDSHV\",\"identifier\":identifier,\"mnemonic\":mnemonic,\"properties\":properties[i]})\n",
    "        req = {\"inputRequests\":req_array}\n",
    "        r = requests.post(self._endpoint,headers=self._headers,data='inputRequests='+json.dumps(req),auth=HTTPBasicAuth(CAPIQ_USERNAME,CAPIQ_PASSWORD))\n",
    "        return r.json()"
   ]
  },
  {
   "cell_type": "code",
   "execution_count": 7,
   "metadata": {
    "collapsed": true
   },
   "outputs": [],
   "source": [
    " def gdsg(self,identifiers,group_mnemonics,properties=None):\n",
    "        req_array = []\n",
    "        for identifier in identifiers:\n",
    "            for i,mnemonic in enumerate(group_mnemonics):\n",
    "                req_array.append({\"function\":\"GDSG\",\"identifier\":identifier,\"mnemonic\":mnemonic,\"properties\":properties[i] if properties else {}})\n",
    "        req = {\"inputRequests\":req_array}\n",
    "        r = requests.post(self._endpoint,headers=self._headers,data='inputRequests='+json.dumps(req),auth=HTTPBasicAuth(CAPIQ_USERNAME,CAPIQ_PASSWORD))\n",
    "        return r.json()\n"
   ]
  },
  {
   "cell_type": "code",
   "execution_count": null,
   "metadata": {
    "collapsed": true
   },
   "outputs": [],
   "source": []
  }
 ],
 "metadata": {
  "kernelspec": {
   "display_name": "Python 2",
   "language": "python",
   "name": "python2"
  },
  "language_info": {
   "codemirror_mode": {
    "name": "ipython",
    "version": 2
   },
   "file_extension": ".py",
   "mimetype": "text/x-python",
   "name": "python",
   "nbconvert_exporter": "python",
   "pygments_lexer": "ipython2",
   "version": "2.7.11"
  }
 },
 "nbformat": 4,
 "nbformat_minor": 0
}
